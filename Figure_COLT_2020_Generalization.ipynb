{
 "cells": [
  {
   "cell_type": "markdown",
   "metadata": {},
   "source": [
    "Reproducing the double descent with rotationally invariant (non Marcenko-Pastur spectrum) matrices in LASSO setup. Comparision with experimental data using sklearn"
   ]
  },
  {
   "cell_type": "code",
   "execution_count": null,
   "metadata": {},
   "outputs": [],
   "source": [
    "# Test_sampling\n",
    "\n",
    "import numpy as np\n",
    "from VAMP_toolbox_clean import *\n",
    "from sklearn import linear_model\n",
    "from math import isnan\n",
    "import time"
   ]
  },
  {
   "cell_type": "code",
   "execution_count": null,
   "metadata": {},
   "outputs": [],
   "source": [
    "# Rotationally invariant with specifically designed spectrum (non-MP) to generate double decent, experiment\n",
    "\n",
    "asp_vec = np.linspace(0.5,3,50)\n",
    "E_vec = np.zeros(50)\n",
    "rho = 0.3\n",
    "delta0 = 0.05\n",
    "avg = 100  # averagin parameter\n",
    "\n",
    "for i in range(len(asp_vec)):\n",
    "    if i<=15:\n",
    "        d = 250\n",
    "    else:\n",
    "        d = 100\n",
    "    asp = asp_vec[i]\n",
    "    print(asp)\n",
    "    n = int(asp*d)\n",
    "    E_exp = np.zeros(avg)\n",
    "    for k in range(avg):\n",
    "        print(k)\n",
    "        F_train,D = build_matrix((1-asp)**2,(1+asp)**2,n,d,asp,1)\n",
    "        x0 = gauss_bernoulli(rho,d)\n",
    "        w = np.random.normal(0,np.sqrt(delta0),n)\n",
    "        y_train = F_train@x0+w\n",
    "        clf = linear_model.ElasticNet(alpha=0.0001/n,l1_ratio=1,max_iter = 1000000,tol = 0.00001)\n",
    "        clf.fit(F_train,y_train)\n",
    "        x_train = clf.coef_\n",
    "        E_exp[k] = np.mean((x0-x_train)**2)\n",
    "    \n",
    "        #print(E_exp,np.mean(E_exp),np.var(E_exp))\n",
    "        \n",
    "    E_vec[i] = np.mean(E_exp)"
   ]
  },
  {
   "cell_type": "code",
   "execution_count": null,
   "metadata": {},
   "outputs": [],
   "source": [
    "plt.plot(asp_vec,E_vec,'.') # check"
   ]
  },
  {
   "cell_type": "code",
   "execution_count": null,
   "metadata": {},
   "outputs": [],
   "source": [
    "# Vanishing regularization parameter (near interpolation), theory using SE asymptotics/replica prediction\n",
    "\n",
    "my_eps = 0\n",
    "niter = 100\n",
    "damp_se = 1\n",
    "reg = 0.0001\n",
    "\n",
    "asp_vec_th = np.linspace(0.5,3,250)\n",
    "E_vec_th = np.zeros(len(asp_vec_th))\n",
    "    \n",
    "#reg = reg_vec_th[i]\n",
    "\n",
    "for k in range(len(asp_vec_th)):\n",
    "    \n",
    "    print(k)\n",
    "    asp = asp_vec_th[k]\n",
    "    alpha1_vec,alpha2_vec,eta1_vec,eta2_vec,gamma1_vec,gamma2_vec,E1_vec,E2_vec,tau1_vec,tau2_vec = VAMP_SE_l1_unif(asp,rho,delta0,reg,niter,damp_se,my_eps,1)\n",
    "    \n",
    "    V = 1/2*(1/eta1_vec[-1]+1/eta2_vec[-1])\n",
    "    A1 = alpha1_vec[-1]/V\n",
    "    A2 = alpha2_vec[-1]/V\n",
    "    tau1 = tau1_vec[-1]\n",
    "    tau2 = tau2_vec[-1]\n",
    "    E = 1/2*(E1_vec[-1]+E2_vec[-1])\n",
    "    \n",
    "    while isnan(E) == True:\n",
    "        print('Restarting iteration')\n",
    "        alpha1_vec,alpha2_vec,eta1_vec,eta2_vec,gamma1_vec,gamma2_vec,E1_vec,E2_vec,tau1_vec,tau2_vec = VAMP_SE_l1_unif(asp,rho,delta0,reg,niter,damp_se,my_eps,1)\n",
    "        \n",
    "        V = 1/2*(1/eta1_vec[-1]+1/eta2_vec[-1])\n",
    "        A1 = alpha1_vec[-1]/V\n",
    "        A2 = alpha2_vec[-1]/V\n",
    "        tau1 = tau1_vec[-1]\n",
    "        tau2 = tau2_vec[-1]\n",
    "        E = 1/2*(E1_vec[-1]+E2_vec[-1])\n",
    "        \n",
    "    E_vec_th[k] = E    \n",
    "    print(E)"
   ]
  },
  {
   "cell_type": "code",
   "execution_count": null,
   "metadata": {},
   "outputs": [],
   "source": [
    "#print(E_vec_th) check"
   ]
  },
  {
   "cell_type": "code",
   "execution_count": null,
   "metadata": {},
   "outputs": [],
   "source": [
    "plt.plot(asp_vec,E_vec,'.')\n",
    "plt.plot(asp_vec_th,E_vec_th)  # check\n",
    "plt.ylim(0,1)"
   ]
  },
  {
   "cell_type": "code",
   "execution_count": null,
   "metadata": {},
   "outputs": [],
   "source": [
    "# larger regularization, experiment\n",
    "\n",
    "asp_vec = np.linspace(0.5,3,50)\n",
    "E_vec2 = np.zeros(50)\n",
    "rho = 0.3\n",
    "delta0 = 0.05\n",
    "d = 250\n",
    "avg = 100\n",
    "\n",
    "for i in range(len(asp_vec)):\n",
    "    asp = asp_vec[i]\n",
    "    print(asp)\n",
    "    n = int(asp*d)\n",
    "    E_exp = np.zeros(avg)\n",
    "    for k in range(avg):\n",
    "    \n",
    "        F_train,D = build_matrix((1-asp)**2,(1+asp)**2,n,d,asp,1)\n",
    "        x0 = gauss_bernoulli(rho,d)\n",
    "        w = np.random.normal(0,np.sqrt(delta0),n)\n",
    "        y_train = F_train@x0+w\n",
    "        clf = linear_model.ElasticNet(alpha=0.1/n,l1_ratio=1,max_iter = 1000000,tol = 0.00001)\n",
    "        clf.fit(F_train,y_train)\n",
    "        x_train = clf.coef_\n",
    "        E_exp[k] = np.mean((x0-x_train)**2)\n",
    "    \n",
    "        #print(E_exp,np.mean(E_exp),np.var(E_exp))\n",
    "        \n",
    "    E_vec2[i] = np.mean(E_exp)"
   ]
  },
  {
   "cell_type": "code",
   "execution_count": null,
   "metadata": {},
   "outputs": [],
   "source": [
    "# larger regularization, theory\n",
    "\n",
    "my_eps = 0\n",
    "niter = 100\n",
    "damp_se = 1\n",
    "reg = 0.1\n",
    "\n",
    "\n",
    "asp_vec_th = np.linspace(0.5,3,250)\n",
    "E_vec2_th = np.zeros(len(asp_vec_th))\n",
    "    \n",
    "#reg = reg_vec_th[i]\n",
    "\n",
    "for k in range(len(asp_vec_th)):\n",
    "    \n",
    "    print(k)\n",
    "    asp = asp_vec_th[k]\n",
    "    alpha1_vec,alpha2_vec,eta1_vec,eta2_vec,gamma1_vec,gamma2_vec,E1_vec,E2_vec,tau1_vec,tau2_vec = VAMP_SE_l1_unif(asp,rho,delta0,reg,niter,damp_se,my_eps,1)\n",
    "    \n",
    "    V = 1/2*(1/eta1_vec[-1]+1/eta2_vec[-1])\n",
    "    A1 = alpha1_vec[-1]/V\n",
    "    A2 = alpha2_vec[-1]/V\n",
    "    tau1 = tau1_vec[-1]\n",
    "    tau2 = tau2_vec[-1]\n",
    "    E = 1/2*(E1_vec[-1]+E2_vec[-1])\n",
    "    \n",
    "    while isnan(E) == True:\n",
    "        print('Restarting iteration')\n",
    "        alpha1_vec,alpha2_vec,eta1_vec,eta2_vec,gamma1_vec,gamma2_vec,E1_vec,E2_vec,tau1_vec,tau2_vec = VAMP_SE_l1_unif(asp,rho,delta0,reg,niter,damp_se,my_eps,1)\n",
    "        \n",
    "        V = 1/2*(1/eta1_vec[-1]+1/eta2_vec[-1])\n",
    "        A1 = alpha1_vec[-1]/V\n",
    "        A2 = alpha2_vec[-1]/V\n",
    "        tau1 = tau1_vec[-1]\n",
    "        tau2 = tau2_vec[-1]\n",
    "        E = 1/2*(E1_vec[-1]+E2_vec[-1])\n",
    "        \n",
    "    E_vec2_th[k] = E    \n",
    "    print(E)"
   ]
  },
  {
   "cell_type": "code",
   "execution_count": null,
   "metadata": {},
   "outputs": [],
   "source": [
    "plt.ylabel(r'$\\frac{1}{N}||x_{0}-\\hat{x}||_{2}^{2}$')\n",
    "plt.xlabel(r'$\\alpha$')\n",
    "plt.plot(asp_vec,E_vec2,'+g',label = r'$\\lambda_{1} = 0.1$ experiment')\n",
    "plt.plot(asp_vec_th,E_vec2_th,'g',label = r'$\\lambda_{1} = 0.1$ theory')\n",
    "plt.plot(asp_vec,E_vec,'xb',label = r'$\\lambda_{1} = 0.0001$ experiment')\n",
    "plt.plot(asp_vec_th,E_vec_th,'b',label = r'$\\lambda_{1} = 0.0001$ theory')\n",
    "plt.tight_layout()\n",
    "plt.legend(fontsize = 12)\n",
    "plt.ylim(0,1)\n",
    "plt.rc('axes', labelsize = 15)\n",
    "plt.savefig('generalization', dpi=500, quality = 95)"
   ]
  },
  {
   "cell_type": "code",
   "execution_count": null,
   "metadata": {},
   "outputs": [],
   "source": []
  }
 ],
 "metadata": {
  "kernelspec": {
   "display_name": "Python 3",
   "language": "python",
   "name": "python3"
  },
  "language_info": {
   "codemirror_mode": {
    "name": "ipython",
    "version": 3
   },
   "file_extension": ".py",
   "mimetype": "text/x-python",
   "name": "python",
   "nbconvert_exporter": "python",
   "pygments_lexer": "ipython3",
   "version": "3.6.8"
  }
 },
 "nbformat": 4,
 "nbformat_minor": 2
}
