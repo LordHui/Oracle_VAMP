{
 "cells": [
  {
   "cell_type": "markdown",
   "metadata": {},
   "source": [
    "Reproducing the double descent with Gaussian matrices as a sanity check"
   ]
  },
  {
   "cell_type": "code",
   "execution_count": 1,
   "metadata": {},
   "outputs": [],
   "source": [
    "import numpy as np\n",
    "import matplotlib.pyplot as plt\n",
    "from sklearn import linear_model\n",
    "from VAMP_toolbox_clean import *\n",
    "from math import isnan"
   ]
  },
  {
   "cell_type": "code",
   "execution_count": 2,
   "metadata": {},
   "outputs": [],
   "source": [
    "# Gaussian sanity check, all i.i.d, generalization error as a function of the aspect ratio\n",
    "\n",
    "n_exp = 50\n",
    "asp_vec = np.linspace(0.5,3,n_exp) # aspec ratios \n",
    "E_vec = np.zeros(n_exp)\n",
    "rho = 0.3  # sparsity parameter of the teacher\n",
    "delta0 = 0.01\n",
    "n,d = 200,100 # low dimension, still gives very good agreement with asymptotics\n",
    "n_avg = 20 # choose the averaging number "
   ]
  },
  {
   "cell_type": "code",
   "execution_count": null,
   "metadata": {},
   "outputs": [],
   "source": [
    "for i in range(n_exp):\n",
    "    print((i+1)/n_exp*100,'%')\n",
    "    for k in range(n_avg):  # 20 times averaging, solving the minimization problem with sklearn elastic net\n",
    "        \n",
    "            asp = asp_vec[i]\n",
    "            n = int(asp*d)\n",
    "            x0 = gauss_bernoulli(rho,d)\n",
    "            F_train = np.random.normal(0,np.sqrt(1/n),(n,d))\n",
    "            w = np.random.normal(0,np.sqrt(delta0),n)\n",
    "            y_train = F_train@x0+w\n",
    "            clf = linear_model.ElasticNet(alpha=0.001/n,l1_ratio=1,max_iter = 100000,tol = 0.00001)\n",
    "            clf.fit(F_train,y_train)\n",
    "            x_train = clf.coef_\n",
    "            E_vec[i] = E_vec[i]+np.mean((x0-x_train)**2)\n",
    "            \n",
    "    E_vec[i] = 1/n_avg*E_vec[i]"
   ]
  },
  {
   "cell_type": "code",
   "execution_count": null,
   "metadata": {},
   "outputs": [],
   "source": [
    "# Gaussian sanity check, all i.i.d - Theory using SE asymptotics/Replica prediction\n",
    "\n",
    "n_th = 51\n",
    "asp_vec_th = np.linspace(0.5,3,n_th)\n",
    "E_vec_th = np.zeros(n_th)\n",
    "reg = 0.001\n",
    "niter = 100\n",
    "my_eps = 0\n",
    "\n",
    "for i in range(n_th):\n",
    "    print((i+1)/n_th*100,'%')\n",
    "    asp = asp_vec_th[i]\n",
    "    damp_se = 1\n",
    "        \n",
    "    alpha1_vec,alpha2_vec,eta1_vec,eta2_vec,gamma1_vec,gamma2_vec,E1_vec,E2_vec,tau1_vec,tau2_vec = VAMP_SE_l1_unif(asp,rho,delta0,reg,niter,damp_se,my_eps,0)\n",
    "    \n",
    "    V = 1/2*(1/eta1_vec[-1]+1/eta2_vec[-1])\n",
    "    A1 = alpha1_vec[-1]/V\n",
    "    A2 = alpha2_vec[-1]/V\n",
    "    tau1 = tau1_vec[-1]\n",
    "    tau2 = tau2_vec[-1]\n",
    "    E = 1/2*(E1_vec[-1]+E2_vec[-1])\n",
    "        \n",
    "    while isnan(E) == True:\n",
    "        print('restarting iteration')\n",
    "        alpha1_vec,alpha2_vec,eta1_vec,eta2_vec,gamma1_vec,gamma2_vec,E1_vec,E2_vec,tau1_vec,tau2_vec = VAMP_SE_l1_unif(asp,rho,delta0,reg,niter,damp_se,my_eps,0)\n",
    "        \n",
    "        V = 1/2*(1/eta1_vec[-1]+1/eta2_vec[-1])\n",
    "        A1 = alpha1_vec[-1]/V\n",
    "        A2 = alpha2_vec[-1]/V\n",
    "        tau1 = tau1_vec[-1]\n",
    "        tau2 = tau2_vec[-1]\n",
    "        E = 1/2*(E1_vec[-1]+E2_vec[-1])\n",
    "        \n",
    "        \n",
    "    E_vec_th[i] = (E1_vec[-1]+E2_vec[-1])/2"
   ]
  },
  {
   "cell_type": "code",
   "execution_count": null,
   "metadata": {},
   "outputs": [],
   "source": [
    "# Plot similar to all other papers on Gaussian double descent\n",
    "\n",
    "plt.plot(asp_vec,E_vec,'.',label = 'Experiment')\n",
    "plt.plot(asp_vec_th,E_vec_th, label = 'Theory')\n",
    "plt.legend()\n",
    "plt.title('Gaussian sanity check d=100')\n",
    "plt.xlabel('aspect_ratio')\n",
    "plt.ylabel('risk')\n",
    "plt.savefig('sanity_check_Gaussian', dpi=500, quality = 95)"
   ]
  },
  {
   "cell_type": "code",
   "execution_count": null,
   "metadata": {},
   "outputs": [],
   "source": []
  }
 ],
 "metadata": {
  "kernelspec": {
   "display_name": "Python 3",
   "language": "python",
   "name": "python3"
  },
  "language_info": {
   "codemirror_mode": {
    "name": "ipython",
    "version": 3
   },
   "file_extension": ".py",
   "mimetype": "text/x-python",
   "name": "python",
   "nbconvert_exporter": "python",
   "pygments_lexer": "ipython3",
   "version": "3.6.8"
  }
 },
 "nbformat": 4,
 "nbformat_minor": 2
}
