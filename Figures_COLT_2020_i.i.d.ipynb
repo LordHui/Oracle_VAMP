{
 "cells": [
  {
   "cell_type": "markdown",
   "metadata": {},
   "source": [
    "Reproducing the double descent with Gaussian matrices as a sanity check"
   ]
  },
  {
   "cell_type": "code",
   "execution_count": 1,
   "metadata": {},
   "outputs": [],
   "source": [
    "import numpy as np\n",
    "import matplotlib.pyplot as plt\n",
    "from sklearn import linear_model\n",
    "from VAMP_toolbox_clean import *\n",
    "from math import isnan"
   ]
  },
  {
   "cell_type": "code",
   "execution_count": 2,
   "metadata": {},
   "outputs": [],
   "source": [
    "# Gaussian sanity check, all i.i.d, generalization error as a function of the aspect ratio\n",
    "\n",
    "n_exp = 50\n",
    "asp_vec = np.linspace(0.5,3,n_exp) # aspec ratios \n",
    "E_vec = np.zeros(n_exp)\n",
    "rho = 0.3  # sparsity parameter of the teacher\n",
    "delta0 = 0.01\n",
    "n,d = 200,100 # low dimension, still gives very good agreement with asymptotics\n",
    "n_avg = 20 # choose the averaging number "
   ]
  },
  {
   "cell_type": "code",
   "execution_count": 8,
   "metadata": {},
   "outputs": [
    {
     "name": "stdout",
     "output_type": "stream",
     "text": [
      "2.0 %\n",
      "4.0 %\n",
      "6.0 %\n",
      "8.0 %\n",
      "10.0 %\n",
      "12.0 %\n",
      "14.000000000000002 %\n",
      "16.0 %\n",
      "18.0 %\n",
      "20.0 %\n",
      "22.0 %\n",
      "24.0 %\n",
      "26.0 %\n",
      "28.000000000000004 %\n",
      "30.0 %\n",
      "32.0 %\n",
      "34.0 %\n",
      "36.0 %\n",
      "38.0 %\n",
      "40.0 %\n",
      "42.0 %\n",
      "44.0 %\n",
      "46.0 %\n",
      "48.0 %\n",
      "50.0 %\n",
      "52.0 %\n",
      "54.0 %\n",
      "56.00000000000001 %\n",
      "57.99999999999999 %\n",
      "60.0 %\n",
      "62.0 %\n",
      "64.0 %\n",
      "66.0 %\n",
      "68.0 %\n",
      "70.0 %\n",
      "72.0 %\n",
      "74.0 %\n",
      "76.0 %\n",
      "78.0 %\n",
      "80.0 %\n",
      "82.0 %\n",
      "84.0 %\n",
      "86.0 %\n",
      "88.0 %\n",
      "90.0 %\n",
      "92.0 %\n",
      "94.0 %\n",
      "96.0 %\n",
      "98.0 %\n",
      "100.0 %\n"
     ]
    }
   ],
   "source": [
    "for i in range(n_exp):\n",
    "    print((i+1)/n_exp*100,'%')\n",
    "    for k in range(n_avg):  # 20 times averaging, solving the minimization problem with sklearn elastic net\n",
    "        \n",
    "            asp = asp_vec[i]\n",
    "            n = int(asp*d)\n",
    "            x0 = gauss_bernoulli(rho,d)\n",
    "            F_train = np.random.normal(0,np.sqrt(1/n),(n,d))\n",
    "            w = np.random.normal(0,np.sqrt(delta0),n)\n",
    "            y_train = F_train@x0+w\n",
    "            clf = linear_model.ElasticNet(alpha=0.001/n,l1_ratio=1,max_iter = 100000,tol = 0.00001)\n",
    "            clf.fit(F_train,y_train)\n",
    "            x_train = clf.coef_\n",
    "            E_vec[i] = E_vec[i]+np.mean((x0-x_train)**2)\n",
    "            \n",
    "    E_vec[i] = 1/n_avg*E_vec[i]"
   ]
  },
  {
   "cell_type": "code",
   "execution_count": 6,
   "metadata": {},
   "outputs": [
    {
     "name": "stdout",
     "output_type": "stream",
     "text": [
      "1.9607843137254901 %\n",
      "3.9215686274509802 %\n",
      "5.88235294117647 %\n",
      "7.8431372549019605 %\n",
      "9.803921568627452 %\n",
      "11.76470588235294 %\n",
      "13.725490196078432 %\n",
      "15.686274509803921 %\n",
      "17.647058823529413 %\n",
      "19.607843137254903 %\n",
      "21.568627450980394 %\n",
      "23.52941176470588 %\n",
      "25.49019607843137 %\n",
      "27.450980392156865 %\n",
      "29.411764705882355 %\n",
      "31.372549019607842 %\n",
      "33.33333333333333 %\n",
      "35.294117647058826 %\n",
      "37.254901960784316 %\n",
      "39.21568627450981 %\n",
      "41.17647058823529 %\n",
      "43.13725490196079 %\n",
      "45.09803921568628 %\n",
      "47.05882352941176 %\n",
      "49.01960784313725 %\n",
      "50.98039215686274 %\n",
      "52.94117647058824 %\n",
      "54.90196078431373 %\n",
      "56.86274509803921 %\n",
      "58.82352941176471 %\n",
      "60.78431372549019 %\n",
      "62.745098039215684 %\n",
      "64.70588235294117 %\n",
      "66.66666666666666 %\n",
      "68.62745098039215 %\n",
      "70.58823529411765 %\n",
      "72.54901960784314 %\n",
      "74.50980392156863 %\n",
      "76.47058823529412 %\n",
      "78.43137254901961 %\n",
      "80.3921568627451 %\n",
      "82.35294117647058 %\n",
      "84.31372549019608 %\n",
      "86.27450980392157 %\n",
      "88.23529411764706 %\n",
      "90.19607843137256 %\n",
      "92.15686274509804 %\n",
      "94.11764705882352 %\n",
      "96.07843137254902 %\n",
      "98.0392156862745 %\n",
      "100.0 %\n"
     ]
    }
   ],
   "source": [
    "# Gaussian sanity check, all i.i.d - Theory using SE asymptotics/Replica prediction\n",
    "\n",
    "n_th = 51\n",
    "asp_vec_th = np.linspace(0.5,3,n_th)\n",
    "E_vec_th = np.zeros(n_th)\n",
    "reg = 0.001\n",
    "niter = 100\n",
    "my_eps = 0\n",
    "\n",
    "for i in range(n_th):\n",
    "    print((i+1)/n_th*100,'%')\n",
    "    asp = asp_vec_th[i]\n",
    "    damp_se = 1\n",
    "        \n",
    "    alpha1_vec,alpha2_vec,eta1_vec,eta2_vec,gamma1_vec,gamma2_vec,E1_vec,E2_vec,tau1_vec,tau2_vec = VAMP_SE_l1_unif(asp,rho,delta0,reg,niter,damp_se,my_eps,0)\n",
    "    \n",
    "    V = 1/2*(1/eta1_vec[-1]+1/eta2_vec[-1])\n",
    "    A1 = alpha1_vec[-1]/V\n",
    "    A2 = alpha2_vec[-1]/V\n",
    "    tau1 = tau1_vec[-1]\n",
    "    tau2 = tau2_vec[-1]\n",
    "    E = 1/2*(E1_vec[-1]+E2_vec[-1])\n",
    "        \n",
    "    while isnan(E) == True:\n",
    "        print('restarting iteration')\n",
    "        alpha1_vec,alpha2_vec,eta1_vec,eta2_vec,gamma1_vec,gamma2_vec,E1_vec,E2_vec,tau1_vec,tau2_vec = VAMP_SE_l1_unif(asp,rho,delta0,reg,niter,damp_se,my_eps,0)\n",
    "        \n",
    "        V = 1/2*(1/eta1_vec[-1]+1/eta2_vec[-1])\n",
    "        A1 = alpha1_vec[-1]/V\n",
    "        A2 = alpha2_vec[-1]/V\n",
    "        tau1 = tau1_vec[-1]\n",
    "        tau2 = tau2_vec[-1]\n",
    "        E = 1/2*(E1_vec[-1]+E2_vec[-1])\n",
    "        \n",
    "        \n",
    "    E_vec_th[i] = (E1_vec[-1]+E2_vec[-1])/2"
   ]
  },
  {
   "cell_type": "code",
   "execution_count": 9,
   "metadata": {},
   "outputs": [
    {
     "data": {
      "image/png": "[encoded data removed]",
      "text/plain": [
       "<Figure size 432x288 with 1 Axes>"
      ]
     },
     "metadata": {
      "needs_background": "light"
     },
     "output_type": "display_data"
    }
   ],
   "source": [
    "# Plot similar to all other papers on Gaussian double descent\n",
    "\n",
    "plt.plot(asp_vec,E_vec,'.',label = 'Experiment')\n",
    "plt.plot(asp_vec_th,E_vec_th, label = 'Theory')\n",
    "plt.legend()\n",
    "plt.title('Gaussian sanity check d=100')\n",
    "plt.xlabel('aspect_ratio')\n",
    "plt.ylabel('risk')\n",
    "plt.savefig('sanity_check_Gaussian', dpi=500, quality = 95)"
   ]
  },
  {
   "cell_type": "code",
   "execution_count": null,
   "metadata": {},
   "outputs": [],
   "source": []
  }
 ],
 "metadata": {
  "kernelspec": {
   "display_name": "Python 3",
   "language": "python",
   "name": "python3"
  },
  "language_info": {
   "codemirror_mode": {
    "name": "ipython",
    "version": 3
   },
   "file_extension": ".py",
   "mimetype": "text/x-python",
   "name": "python",
   "nbconvert_exporter": "python",
   "pygments_lexer": "ipython3",
   "version": "3.6.8"
  }
 },
 "nbformat": 4,
 "nbformat_minor": 2
}
