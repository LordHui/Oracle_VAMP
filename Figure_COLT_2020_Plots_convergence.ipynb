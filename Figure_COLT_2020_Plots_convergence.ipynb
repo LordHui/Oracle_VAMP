{
 "cells": [
  {
   "cell_type": "markdown",
   "metadata": {},
   "source": [
    "Script to generate Figure 2 in appendix D"
   ]
  },
  {
   "cell_type": "code",
   "execution_count": null,
   "metadata": {},
   "outputs": [],
   "source": [
    "from VAMP_toolbox_clean import *\n",
    "from math import isnan"
   ]
  },
  {
   "cell_type": "code",
   "execution_count": null,
   "metadata": {},
   "outputs": [],
   "source": [
    "# sample sizes and dimensions\n",
    "\n",
    "n_vec = np.array([100,100,100,100,200,500])\n",
    "d_vec = np.array([1000,500,200,100,100,100])\n",
    "asp_vec = np.zeros(6) # aspect ratio vector for plot labeling"
   ]
  },
  {
   "cell_type": "code",
   "execution_count": null,
   "metadata": {},
   "outputs": [],
   "source": [
    "conv_plots = [] # empty tensor to store the convergence data\n",
    "damp_se = 1    # no damping needed, restart the iteration of SE if it did not converge\n",
    "for i in range(len(n_vec)):\n",
    "    \n",
    "    rho = 0.3 # sparsity of the teacher vector\n",
    "    n = n_vec[i]\n",
    "    d = d_vec[i]\n",
    "    asp = n/d    # aspect ratio\n",
    "    asp_vec[i] = asp\n",
    "    print(asp)\n",
    "    delta0 = 0.01 # teacher noise\n",
    "    reg = 0.1 # regularization parameter of LASSO\n",
    "    my_eps = 0.3 # additional l2 penalty to enforce strict convexity (i.e. elastic net)\n",
    "\n",
    "    # Solve the state evolution equations for the chosen problem\n",
    "\n",
    "    niter = 100 # number of iterations for the state evolution, tuned using convergence data on SE\n",
    "    \n",
    "    # Iterate SE equations\n",
    "\n",
    "    alpha1_vec,alpha2_vec,eta1_vec,eta2_vec,gamma1_vec,gamma2_vec,E1_vec,E2_vec,tau1_vec,tau2_vec = VAMP_SE_l1_unif(asp,rho,delta0,reg,niter,damp_se,my_eps,0)\n",
    "\n",
    "    # Keeping the fixed point parameters for DR_VAMP\n",
    "\n",
    "    V = 1/2*(1/eta1_vec[-1]+1/eta2_vec[-1])\n",
    "    A1 = alpha1_vec[-1]/V\n",
    "    A2 = alpha2_vec[-1]/V\n",
    "    tau1 = tau1_vec[-1]\n",
    "    tau2 = tau2_vec[-1]\n",
    "    E = 1/2*(E1_vec[-1]+E2_vec[-1])\n",
    "    \n",
    "    while isnan(E) == True:   # restarting the iterations in case the fixed point was not found\n",
    "        print('Restarting iteration')\n",
    "        alpha1_vec,alpha2_vec,eta1_vec,eta2_vec,gamma1_vec,gamma2_vec,E1_vec,E2_vec,tau1_vec,tau2_vec = VAMP_SE_l1_unif(asp,rho,delta0,reg,niter,damp_se,my_eps,0)\n",
    "        \n",
    "        V = 1/2*(1/eta1_vec[-1]+1/eta2_vec[-1])\n",
    "        A1 = alpha1_vec[-1]/V\n",
    "        A2 = alpha2_vec[-1]/V\n",
    "        tau1 = tau1_vec[-1]\n",
    "        tau2 = tau2_vec[-1]\n",
    "        E = 1/2*(E1_vec[-1]+E2_vec[-1])\n",
    "\n",
    "    # Build the problem corresponding to the state evolution equations\n",
    "    \n",
    "    # data matrix, Gaussian here for simplicity\n",
    "    \n",
    "    F = np.random.normal(0,np.sqrt(1/n),(n,d)) #square i.i.d\n",
    "\n",
    "    # teacher vector\n",
    "    x0 = gauss_bernoulli(rho,d)\n",
    "\n",
    "    # Noisy teacher output\n",
    "\n",
    "    w = np.random.normal(0,np.sqrt(delta0),n)\n",
    "    y = F@x0+w\n",
    "\n",
    "    # Oracle_VAMP\n",
    "    niter2 = 50\n",
    "    damp_dr = 1  # no damping\n",
    "\n",
    "    sol,B2_mat,B2_conv = DR_VAMP(A1,A2,V,tau2,F,niter2,damp_dr,x0,y,reg,my_eps)\n",
    "    \n",
    "    conv_plots.append(B2_conv)"
   ]
  },
  {
   "cell_type": "code",
   "execution_count": null,
   "metadata": {},
   "outputs": [],
   "source": [
    "# Convergence plots in the log scale for y-axis, number of iterations in the x-axis\n",
    "\n",
    "plt.figure()\n",
    "\n",
    "for i in range(5):\n",
    "    plt.plot(conv_plots[i], label = r'$\\alpha$ = '+str(asp_vec[i]))\n",
    "\n",
    "#plt.ylim(0,1)\n",
    "plt.xlim(0,25)\n",
    "plt.legend(fontsize = 12)\n",
    "plt.xlabel('k')\n",
    "plt.ylabel(r'$\\frac{1}{N}||B_{2}^{k+1}-B_{2}^{k}||_{2}$')\n",
    "plt.yscale('log')\n",
    "plt.rc('axes', labelsize = 15)\n",
    "plt.tight_layout()\n",
    "plt.savefig('conv_add_l2_03', dpi=500, quality = 95)"
   ]
  },
  {
   "cell_type": "code",
   "execution_count": null,
   "metadata": {},
   "outputs": [],
   "source": []
  }
 ],
 "metadata": {
  "kernelspec": {
   "display_name": "Python 3",
   "language": "python",
   "name": "python3"
  },
  "language_info": {
   "codemirror_mode": {
    "name": "ipython",
    "version": 3
   },
   "file_extension": ".py",
   "mimetype": "text/x-python",
   "name": "python",
   "nbconvert_exporter": "python",
   "pygments_lexer": "ipython3",
   "version": "3.6.8"
  }
 },
 "nbformat": 4,
 "nbformat_minor": 2
}
